{
 "cells": [
  {
   "cell_type": "code",
   "execution_count": null,
   "metadata": {},
   "outputs": [],
   "source": [
    "def smallest_prime_factor(x):\n",
    "    \"\"\"Returns the smallest prime number that is a divisor of x\"\"\"\n",
    "    # Start checking with 2, then move up one by one\n",
    "    n = 2\n",
    "    while n <= x:\n",
    "        if x % n == 0:\n",
    "            return n\n",
    "\n",
    "print(smallest_prime_factor(12)) # should be 2\n",
    "print(smallest_prime_factor(15)) # should be 3"
   ]
  },
  {
   "cell_type": "code",
   "execution_count": null,
   "metadata": {},
   "outputs": [],
   "source": []
  },
  {
   "cell_type": "code",
   "execution_count": null,
   "metadata": {},
   "outputs": [],
   "source": []
  }
 ],
 "metadata": {
  "kernelspec": {
   "display_name": "Python 3",
   "language": "python",
   "name": "python3"
  },
  "language_info": {
   "codemirror_mode": {
    "name": "ipython",
    "version": 3
   },
   "file_extension": ".py",
   "mimetype": "text/x-python",
   "name": "python",
   "nbconvert_exporter": "python",
   "pygments_lexer": "ipython3",
   "version": "3.7.4"
  }
 },
 "nbformat": 4,
 "nbformat_minor": 2
}
